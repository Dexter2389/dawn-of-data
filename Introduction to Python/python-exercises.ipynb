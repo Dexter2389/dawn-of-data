{
 "cells": [
  {
   "cell_type": "markdown",
   "metadata": {},
   "source": [
    "# Python Practice Exercise"
   ]
  },
  {
   "cell_type": "markdown",
   "metadata": {},
   "source": [
    "In this notebook, you have to use the knowledge that you have gathered from the `intro-to-python` notebook and solve three Questions and one Project question to pass the first module."
   ]
  },
  {
   "cell_type": "markdown",
   "metadata": {},
   "source": [
    "#### Question 1"
   ]
  },
  {
   "cell_type": "markdown",
   "metadata": {},
   "source": [
    "You are driving a little too fast, and a police officer stops you. Write a function to return one of 3 possible results: \"No ticket\", \"Small ticket\", or \"Big Ticket\". If your speed is 60 or less, the result is \"No Ticket\". If speed is between 61 and 80 inclusive, the result is \"Small Ticket\". If speed is 81 or more, the result is \"Big Ticket\". Unless it is your birthday (encoded as a boolean value in the parameters of the function) -- on your birthday, your speed can be 5 higher in all cases."
   ]
  },
  {
   "cell_type": "code",
   "execution_count": 3,
   "metadata": {},
   "outputs": [],
   "source": [
    "# Your code goes here"
   ]
  },
  {
   "cell_type": "code",
   "execution_count": 4,
   "metadata": {},
   "outputs": [],
   "source": [
    "# Answer\n"
   ]
  },
  {
   "cell_type": "markdown",
   "metadata": {},
   "source": [
    "#### Question 2"
   ]
  },
  {
   "cell_type": "markdown",
   "metadata": {},
   "source": [
    "Given an unordered list of flights taken by someone, each represented as (origin, destination) pairs along with their prices, and a starting airport.\n",
    "Write a Python program to compute the person's itinerary. If no such itinerary exists, return null. If there are multiple possible itineraries, return the the cheapest possible flight itineray. All flights must be used in the itinerary."
   ]
  },
  {
   "cell_type": "code",
   "execution_count": 5,
   "metadata": {},
   "outputs": [],
   "source": [
    "# Your code goes here"
   ]
  },
  {
   "cell_type": "code",
   "execution_count": 6,
   "metadata": {},
   "outputs": [],
   "source": [
    "# Answer\n"
   ]
  },
  {
   "cell_type": "markdown",
   "metadata": {},
   "source": [
    "#### Questions 3"
   ]
  },
  {
   "cell_type": "markdown",
   "metadata": {},
   "source": [
    "Write a Python program to find three numbers from an array such that the sum of three numbers equal a prime number."
   ]
  },
  {
   "cell_type": "code",
   "execution_count": 10,
   "metadata": {},
   "outputs": [],
   "source": [
    "# Your code goes here"
   ]
  },
  {
   "cell_type": "code",
   "execution_count": 11,
   "metadata": {},
   "outputs": [],
   "source": [
    "# Answer\n"
   ]
  },
  {
   "cell_type": "markdown",
   "metadata": {},
   "source": [
    "#### Project 1"
   ]
  },
  {
   "cell_type": "markdown",
   "metadata": {},
   "source": [
    "Create a Python project of a Magic 8 Ball which is a toy used for fortune-telling or seeking advice.\n",
    "\n",
    "Note :\n",
    "* Allow the user to input their question.\n",
    "* Show an in progress message.\n",
    "* Create 10/20 responses, and show a random response.\n",
    "* Allow the user to ask another question/advice or quit the game."
   ]
  },
  {
   "cell_type": "code",
   "execution_count": 12,
   "metadata": {},
   "outputs": [],
   "source": [
    "# Your code goes here"
   ]
  },
  {
   "cell_type": "code",
   "execution_count": 13,
   "metadata": {},
   "outputs": [],
   "source": [
    "# Answer\n"
   ]
  },
  {
   "cell_type": "markdown",
   "metadata": {},
   "source": [
    "#### Project 2"
   ]
  },
  {
   "cell_type": "markdown",
   "metadata": {},
   "source": [
    "You are given a file with different data points, you have to gather inference from those data points. For example,\n",
    "\n",
    "This file content:\n",
    "\n",
    "    something\n",
    "    1\n",
    "    7\n",
    "    somEThing\n",
    "    N/A\n",
    "    2\n",
    "    wassup\n",
    "    woop\n",
    "    \n",
    "    woop\n",
    "    something\n",
    "    WoOP\n",
    "\n",
    "Should yield this report:\n",
    "\n",
    "    missing values: 2\n",
    "    highest number: 7.0\n",
    "    most common words: something, woop\n",
    "    occurrences of most common: 3\n",
    "    numbers: [1.0, 7.0, 2.0]\n",
    "    words: ['something', 'something', 'wassup', 'woop', 'woop', 'something', 'woop']"
   ]
  },
  {
   "cell_type": "code",
   "execution_count": 1,
   "metadata": {},
   "outputs": [],
   "source": [
    "# Your answer goes here"
   ]
  },
  {
   "cell_type": "code",
   "execution_count": 2,
   "metadata": {},
   "outputs": [],
   "source": [
    "# Answer\n",
    "def get_report(path):\n",
    "    \"\"\"\n",
    "    Creates a report of the file specified as argument.\n",
    "\n",
    "    :param path: path to file from which the report should be created (string)\n",
    "    :return: the report (string)\n",
    "    \"\"\"\n",
    "    data = _read_file(path)\n",
    "    missing_count = data[0]\n",
    "    numbers = data[1]\n",
    "    words = data[2]\n",
    "    report = _make_report(missing_count, numbers, words)\n",
    "    return report\n",
    "\n",
    "\n",
    "def _read_file(path):\n",
    "    \"\"\"\n",
    "    Reads and returns the data from the file specified as argument.\n",
    "\n",
    "    :param path: path to the file to be read.\n",
    "    :return: a tuple containing\n",
    "    1. the number of empty lines (int)\n",
    "    2. numeric values (list of floats)\n",
    "    3. non-numeric values (list of strings)\n",
    "    \"\"\"\n",
    "    data_file = open(path, 'r')\n",
    "    lines = data_file.readlines()\n",
    "    line_count = len(lines)\n",
    "    idx = 0\n",
    "    empty_lines = 0\n",
    "    words = []\n",
    "    numbers = []\n",
    "    while idx < line_count:\n",
    "        line = lines[idx]\n",
    "        line = line.strip()\n",
    "        if line == '':\n",
    "            empty_lines = empty_lines + 1\n",
    "        else:\n",
    "            is_number = False\n",
    "            try:\n",
    "                number = float(line)\n",
    "                is_number = True\n",
    "            except Exception:\n",
    "                pass\n",
    "\n",
    "            if is_number:\n",
    "                numbers.append(number)\n",
    "            else:\n",
    "                words.append(line)\n",
    "        idx = idx + 1\n",
    "    data_file.close()\n",
    "\n",
    "    return empty_lines, numbers, words\n",
    "\n",
    "\n",
    "def _make_report(missing_values, numbers, words):\n",
    "    \"\"\"\n",
    "    Creates and a report based on data given as arguments.\n",
    "\n",
    "    :param missing_values: number of empty lines (int)\n",
    "    :param numbers: numeric values (list of floats)\n",
    "    :param words: non numeric values (list of strings)\n",
    "    :return: the generated report (string)\n",
    "    \"\"\"\n",
    "    max_value = _get_max_value(numbers)\n",
    "    lower_case_words = _words_to_lowercase(words)\n",
    "    most_common_info = _get_most_common_words(lower_case_words)\n",
    "    most_common_words = most_common_info[0]\n",
    "    most_common_count = most_common_info[1]\n",
    "\n",
    "    most_common_str = ''\n",
    "    for idx in range(len(most_common_words)):\n",
    "        most_common_str += most_common_words[idx] + ', '\n",
    "    # remove the last comma and space\n",
    "    most_common_str = most_common_str[0:len(most_common_str) - 2]\n",
    "\n",
    "    report = ('missing values: {}\\n'\n",
    "              'highest number: {}\\n'\n",
    "              'most common words: {}\\n'\n",
    "              'occurrences of most common: {}\\n'\n",
    "              '#####\\n'\n",
    "              'numbers: {}\\n'\n",
    "              'words: {}').format(missing_values, max_value, most_common_str,\n",
    "                                  most_common_count, numbers, lower_case_words)\n",
    "\n",
    "    return report\n",
    "\n",
    "\n",
    "def _get_max_value(numbers):\n",
    "    \"\"\"\n",
    "    Returns the greatest value of the list given as argument.\n",
    "\n",
    "    :param numbers: numbers (list of numeric values)\n",
    "    :return: greatest value of numbers, None if numbers is an empty list\n",
    "    \"\"\"\n",
    "    max_value = None\n",
    "    if len(numbers) > 0:\n",
    "        max_value = numbers[0]\n",
    "        for idx in range(len(numbers)):\n",
    "            if numbers[idx] > max_value:\n",
    "                max_value = numbers[idx]\n",
    "    return max_value\n",
    "\n",
    "\n",
    "def _words_to_lowercase(words):\n",
    "    \"\"\"\n",
    "    :param words: words to be converted (list of strings)\n",
    "    :return: lowercased words (list of strings)\n",
    "    \"\"\"\n",
    "    lowercased = []\n",
    "    for idx in range(len(words)):\n",
    "        value = words[idx].lower()\n",
    "        lowercased.append(value)\n",
    "    return lowercased\n",
    "\n",
    "\n",
    "def _get_most_common_words(words):\n",
    "    \"\"\"\n",
    "    Finds the most common words in a list of words.\n",
    "    If there are multiple different words with the same amount of occurrences,\n",
    "    they are all included in the return value sorted alphabetically.\n",
    "    In addition to returning the most common words, the return value\n",
    "    includes also the count of occurrences of the most common words.\n",
    "\n",
    "    :param words: list of words (list of strings)\n",
    "    :return: a tuple containing:\n",
    "    1. most common words (list of strings)\n",
    "    2. the count of occurrences of the most common words (int)\n",
    "    \"\"\"\n",
    "    word_counts = {}\n",
    "    idx = 0\n",
    "    while idx < len(words):\n",
    "        value = words[idx]\n",
    "        if value not in word_counts.keys():\n",
    "            word_counts[value] = 1\n",
    "        else:\n",
    "            word_counts[value] += 1\n",
    "        idx = idx + 1\n",
    "\n",
    "    max_count = 0\n",
    "    for value in word_counts.values():\n",
    "        if value > max_count:\n",
    "            max_count = value\n",
    "\n",
    "    most_common_words = []\n",
    "    for word in word_counts.keys():\n",
    "        count = word_counts[word]\n",
    "        if count == max_count:\n",
    "            most_common_words.append(word)\n",
    "\n",
    "    most_common_words = sorted(most_common_words)\n",
    "\n",
    "    return most_common_words, max_count"
   ]
  }
 ],
 "metadata": {
  "kernelspec": {
   "display_name": "Python 3",
   "language": "python",
   "name": "python3"
  },
  "language_info": {
   "codemirror_mode": {
    "name": "ipython",
    "version": 3
   },
   "file_extension": ".py",
   "mimetype": "text/x-python",
   "name": "python",
   "nbconvert_exporter": "python",
   "pygments_lexer": "ipython3",
   "version": "3.7.5"
  }
 },
 "nbformat": 4,
 "nbformat_minor": 4
}
