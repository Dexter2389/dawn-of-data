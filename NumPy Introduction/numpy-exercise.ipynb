{
 "cells": [
  {
   "cell_type": "markdown",
   "metadata": {},
   "source": [
    "# NumPy Practice Exercise"
   ]
  },
  {
   "cell_type": "markdown",
   "metadata": {},
   "source": [
    "In this notebook, you have to use the knowledge that you have gathered from the `numpy-intro` notebook and solve all four Questions to pass the second module."
   ]
  },
  {
   "cell_type": "markdown",
   "metadata": {},
   "source": [
    "#### Question 1"
   ]
  },
  {
   "cell_type": "markdown",
   "metadata": {},
   "source": [
    "Create two numpy arrays such that `a` should be all integers between 25-35 (inclusive) and `b` should be ten evenly spaced numbers between 1-6 (inclusive). Perform the following operations on these NumPy arrays:\n",
    "\n",
    "1. Cube (i.e. raise to the power of 3) all the elements in both arrays (element-wise)\n",
    "2. Add both the cubed arrays (e.g., [1,2] + [3,4] = [4,6])\n",
    "3. Sum the elements with even indices of the added array.\n",
    "4. Take the square root of the added array (element-wise square root)\n",
    "5. Append `b` to `a`, reshape the appended array so that it is a 4x5, 2d array and store the results in a variable `m`\n",
    "6. Shuffle `m` and extract the third and the fourth column of the m matrix. Store the resulting 4x2 matrix in a new variable `m2`.\n"
   ]
  },
  {
   "cell_type": "code",
   "execution_count": 4,
   "metadata": {},
   "outputs": [],
   "source": [
    "# Your code goes here"
   ]
  },
  {
   "cell_type": "code",
   "execution_count": 5,
   "metadata": {},
   "outputs": [],
   "source": [
    "# Answer"
   ]
  },
  {
   "cell_type": "markdown",
   "metadata": {},
   "source": [
    "#### Question 2"
   ]
  },
  {
   "cell_type": "markdown",
   "metadata": {},
   "source": [
    "Create two numpy arrays such that `A` should be a 4x3, 2d array with integers randomly chosen from 1 to 11 and `b` should be a 4x1, 2d array with integers randomly chosen from 1 to 11. Using numpy functions and routines solve for x in `Ax = b`. Note, you should use numpy's pseudoinverse function while aligning A and b's dimensions."
   ]
  },
  {
   "cell_type": "code",
   "execution_count": 7,
   "metadata": {},
   "outputs": [],
   "source": [
    "# Your code goes here"
   ]
  },
  {
   "cell_type": "code",
   "execution_count": null,
   "metadata": {},
   "outputs": [],
   "source": [
    "# Answer"
   ]
  },
  {
   "cell_type": "markdown",
   "metadata": {},
   "source": [
    "#### Question 3"
   ]
  },
  {
   "cell_type": "markdown",
   "metadata": {},
   "source": [
    "Create an 1d numpy array `original_data` with 1000 elements and divide that array into two arrays, `train` with 2/3rd of the elements of `original_data` and `test` with remaining 1/3rd elements of `original_data`."
   ]
  },
  {
   "cell_type": "code",
   "execution_count": 9,
   "metadata": {},
   "outputs": [],
   "source": [
    "# Your code goes here"
   ]
  },
  {
   "cell_type": "code",
   "execution_count": 10,
   "metadata": {},
   "outputs": [],
   "source": [
    "# Answer"
   ]
  },
  {
   "cell_type": "markdown",
   "metadata": {},
   "source": [
    "#### Question 4"
   ]
  },
  {
   "cell_type": "markdown",
   "metadata": {},
   "source": [
    "Let `x` be the number of miles a person drives per day and `y` be the dollars spent on buying car fuel (per day). Created two numpy arrays each of size 100 such that represent `x` (number of miles) ranges from 1 to 10 with a uniform noise of (0,1/2) and `y` (money spent in dollars) will be from 1 to 20 with a uniform noise (0,1). Once these arrays are created, find the:\n",
    "\n",
    "1. Expected value of x and the expected value of y\n",
    "2. Variance and co-variance of distributions of x and y\n",
    "3. Assuming that number of dollars spent in car fuel is only dependant on the miles driven, by a linear relationship. Write code that uses a linear predictor to calculate a predicted value of y for each x i.e `y_pred = f(x) = y_0 + mx`. Note, y_0 = (expected value of y) - ((co-varivance of x and y) / (variance of x) * (expected value of x))\n",
    "4. y_pred for each value in x, put the error into an array called y_error\n",
    "5. Root mean square error (RMSE)\n"
   ]
  },
  {
   "cell_type": "code",
   "execution_count": 8,
   "metadata": {},
   "outputs": [],
   "source": [
    "# Your code goes here"
   ]
  },
  {
   "cell_type": "code",
   "execution_count": null,
   "metadata": {},
   "outputs": [],
   "source": [
    "# Answer"
   ]
  }
 ],
 "metadata": {
  "kernelspec": {
   "display_name": "Python 3",
   "language": "python",
   "name": "python3"
  },
  "language_info": {
   "codemirror_mode": {
    "name": "ipython",
    "version": 3
   },
   "file_extension": ".py",
   "mimetype": "text/x-python",
   "name": "python",
   "nbconvert_exporter": "python",
   "pygments_lexer": "ipython3",
   "version": "3.7.5"
  }
 },
 "nbformat": 4,
 "nbformat_minor": 4
}
